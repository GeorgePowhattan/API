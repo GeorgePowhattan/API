{
 "cells": [
  {
   "cell_type": "code",
   "execution_count": 1,
   "metadata": {},
   "outputs": [],
   "source": [
    "import requests"
   ]
  },
  {
   "cell_type": "code",
   "execution_count": 31,
   "metadata": {},
   "outputs": [],
   "source": [
    "url = 'https://api.ebay.com/buy/browse/v1/item_summary/search?q=phone&category_ids=220&limit=3'\n",
    "USER_ACCESS_TOKEN = 'v^1.1#i^1#I^3#f^0#r^0#p^1#t^H4sIAAAAAAAAAOVYa2wUVRTu9kUIlmqoYAjiZqyWhzM7M7sz7Q7s4hZaugJ9bSml0cCdmTvt0NmZYe4M7fLHphGMaETERIJCqiEEMSHADw1EhWhEg4FEIxEkqYlEKagYJQSCzzuzpWwrgUJXbOL+mdx7z/M759xz9tLdheNnra9Zf7nINy63t5vuzvX5mAn0+MKC2RPzcqcW5NAZBL7e7tLu/J68/rkIJDVTaITINHQE/V1JTUeCtxkhHEsXDIBUJOggCZFgS0IitmSxwFK0YFqGbUiGRvjjCyKEwsAQZLmwTFcAWRYr8K5+TWaTESEkpVyUy3kOBjkOiiyPzxFyYFxHNtDtCMHSLE3SLMnwTQwn0CGB5alwONhK+JuhhVRDxyQUTUQ9cwWP18qw9eamAoSgZWMhRDQeq07UxeILqmqb5gYyZEUHcEjYwHbQ0NV8Q4b+ZqA58OZqkEctJBxJgggRgWhaw1ChQuyaMXdgvge1yIlBjgmJIRqwDMeGsgJltWElgX1zO9wdVSYVj1SAuq3aqVshitEQV0HJHljVYhHxBX730+AATVVUaEWIqsrY8lh9PRGt02W4agmwyHprja7GTI1MVLaQCgSAk8I8Q7KAp0MyDA8oSksbgHmYpvmGLqsuaMhfa9iVEFsNh2ITErgMbDBRnV5nxRTbtSiTrvwahhXhVjeo6Sg6drvuxhUmMRB+b3nrCAxy27alio4NByUMP/AgihDANFWZGH7o5eJA+nShCNFu26YQCHR2dlKdQcqw2gIsTTOBliWLE1I7TAIC07q1nqZXb81Aqp4rEsScSBXslIlt6cK5ig3Q24hokC2nGXYA96FmRYfv/mMjw+fA0IrIVoUEQUgOy0FJDFYoQAFsNiokOpCkAdcOKIIUmQRWB7RNDUiQlHCeOUloqbIQ5BQW64WkzIcVMhRWFFLkZJ5kFAhpCEVRClf8nwplpKmegJIF7azkevbyvDpZI7O1Wp21utZpCTcul5ZXspVsFRNTQMysbgfLVi3uCIXWLkQNkZFWw42dlwwT1huaKqWygIBb69lEwZLrgWWnKp0UXiegpuHPqNxFrrtjK9QuP8ICgKlSbnlTkpEMGADf6+7WCs9i/0iIAqKTotociGxshYxb64iZVFwfFL4l5JGzpO8g7MDIWfDcJjuSfUeKvMuOwkiqbe02ui2dXUNAGVX2xEwznkw6NhA1GM9Od/yPOuMN3VPx7Dhyn9xavwt+4cimQ6zK6cGP8uJMoTUSZUFkOBaeeak6dw5qMjqgjruKbRmaBq1mZtTBHmMxvs3me2d+Z2/yG0u5LWkqTp8VY82zuxJRFYx2usnv8b2aZc8ZroKp4LkQz4/Kt/leXJtSY62r1xjIhvK/8EclMPTZJJrj/Zge3/t0j+9Ars9Hl9MkM5ueWZi3ND/vHgLh5k4hoMui0UWpQKFwC9WB7ViQ6oApE6hWbqFP/fpL6UrGg03vU/QDg0824/OYCRnvN/S06ycFTPGUIgwMy/AMR4dYvpV++PppPjM5v+TIlEC8bGVL8PMvDv+oXXl3w7o/F+2jiwaJfL6CHJxdOckX+NPH3z7yYO8TVaf2PTervz967K97T3x8dOukT7d+VLrzxIfP/HLuYDH3WWF88+49Z8rCSJw+fXvxyk373zjZcDH30sylZZu3VM6Yt3L3gQ1F+1/acX/nD8ULts05/HLTrsY9T3K7+k+2Xtq5UT4fCH715qVH/tg778zFGRfPRi6f/r2v2pggVP3s7A0tkntjfaWH8koXPdQYIzdNWt327WHu6rkddXnfxMs2rq25QF2dfPm7196rWfH99teX7ohMO3/fOzt7tv32QdFbxY9zC1c/2vfT0ecJc0tjyfGSXw8s298w4zR7pWFcvFx4ZfuhY3O2THyx5ODZsr5POp9NrJsztfmxrfyFp0+xQo7J9mnBdBj/BoqknlxKEwAA'"
   ]
  },
  {
   "cell_type": "code",
   "execution_count": 32,
   "metadata": {},
   "outputs": [],
   "source": [
    "res = requests.get(url, headers={'Authorization': USER_ACCESS_TOKEN })"
   ]
  },
  {
   "cell_type": "code",
   "execution_count": 33,
   "metadata": {},
   "outputs": [
    {
     "data": {
      "text/plain": [
       "{'errors': [{'errorId': 1003,\n",
       "   'domain': 'OAuth',\n",
       "   'category': 'REQUEST',\n",
       "   'message': 'Token type in the Authorization header is invalid:v^1.1#i^1#I^3#f^0#r^0#p^1#t^H4sIAAAAAAAAAOVYa2wUVRTu9kUIlmqoYAjiZqyWhzM7M7sz7Q7s4hZaugJ9bSml0cCdmTvt0NmZYe4M7fLHphGMaETERIJCqiEEMSHADw1EhWhEg4FEIxEkqYlEKagYJQSCzzuzpWwrgUJXbOL+mdx7z/M759xz9tLdheNnra9Zf7nINy63t5vuzvX5mAn0+MKC2RPzcqcW5NAZBL7e7tLu/J68/rkIJDVTaITINHQE/V1JTUeCtxkhHEsXDIBUJOggCZFgS0IitmSxwFK0YFqGbUiGRvjjCyKEwsAQZLmwTFcAWRYr8K5+TWaTESEkpVyUy3kOBjkOiiyPzxFyYFxHNtDtCMHSLE3SLMnwTQwn0CGB5alwONhK+JuhhVRDxyQUTUQ9cwWP18qw9eamAoSgZWMhRDQeq07UxeILqmqb5gYyZEUHcEjYwHbQ0NV8Q4b+ZqA58OZqkEctJBxJgggRgWhaw1ChQuyaMXdgvge1yIlBjgmJIRqwDMeGsgJltWElgX1zO9wdVSYVj1SAuq3aqVshitEQV0HJHljVYhHxBX730+AATVVUaEWIqsrY8lh9PRGt02W4agmwyHprja7GTI1MVLaQCgSAk8I8Q7KAp0MyDA8oSksbgHmYpvmGLqsuaMhfa9iVEFsNh2ITErgMbDBRnV5nxRTbtSiTrvwahhXhVjeo6Sg6drvuxhUmMRB+b3nrCAxy27alio4NByUMP/AgihDANFWZGH7o5eJA+nShCNFu26YQCHR2dlKdQcqw2gIsTTOBliWLE1I7TAIC07q1nqZXb81Aqp4rEsScSBXslIlt6cK5ig3Q24hokC2nGXYA96FmRYfv/mMjw+fA0IrIVoUEQUgOy0FJDFYoQAFsNiokOpCkAdcOKIIUmQRWB7RNDUiQlHCeOUloqbIQ5BQW64WkzIcVMhRWFFLkZJ5kFAhpCEVRClf8nwplpKmegJIF7azkevbyvDpZI7O1Wp21utZpCTcul5ZXspVsFRNTQMysbgfLVi3uCIXWLkQNkZFWw42dlwwT1huaKqWygIBb69lEwZLrgWWnKp0UXiegpuHPqNxFrrtjK9QuP8ICgKlSbnlTkpEMGADf6+7WCs9i/0iIAqKTotociGxshYxb64iZVFwfFL4l5JGzpO8g7MDIWfDcJjuSfUeKvMuOwkiqbe02ui2dXUNAGVX2xEwznkw6NhA1GM9Od/yPOuMN3VPx7Dhyn9xavwt+4cimQ6zK6cGP8uJMoTUSZUFkOBaeeak6dw5qMjqgjruKbRmaBq1mZtTBHmMxvs3me2d+Z2/yG0u5LWkqTp8VY82zuxJRFYx2usnv8b2aZc8ZroKp4LkQz4/Kt/leXJtSY62r1xjIhvK/8EclMPTZJJrj/Zge3/t0j+9Ars9Hl9MkM5ueWZi3ND/vHgLh5k4hoMui0UWpQKFwC9WB7ViQ6oApE6hWbqFP/fpL6UrGg03vU/QDg0824/OYCRnvN/S06ycFTPGUIgwMy/AMR4dYvpV++PppPjM5v+TIlEC8bGVL8PMvDv+oXXl3w7o/F+2jiwaJfL6CHJxdOckX+NPH3z7yYO8TVaf2PTervz967K97T3x8dOukT7d+VLrzxIfP/HLuYDH3WWF88+49Z8rCSJw+fXvxyk373zjZcDH30sylZZu3VM6Yt3L3gQ1F+1/acX/nD8ULts05/HLTrsY9T3K7+k+2Xtq5UT4fCH715qVH/tg778zFGRfPRi6f/r2v2pggVP3s7A0tkntjfaWH8koXPdQYIzdNWt327WHu6rkddXnfxMs2rq25QF2dfPm7196rWfH99teX7ohMO3/fOzt7tv32QdFbxY9zC1c/2vfT0ecJc0tjyfGSXw8s298w4zR7pWFcvFx4ZfuhY3O2THyx5ODZsr5POp9NrJsztfmxrfyFp0+xQo7J9mnBdBj/BoqknlxKEwAA',\n",
       "   'longMessage': 'Token type in the Authorization header is invalid:v^1.1#i^1#I^3#f^0#r^0#p^1#t^H4sIAAAAAAAAAOVYa2wUVRTu9kUIlmqoYAjiZqyWhzM7M7sz7Q7s4hZaugJ9bSml0cCdmTvt0NmZYe4M7fLHphGMaETERIJCqiEEMSHADw1EhWhEg4FEIxEkqYlEKagYJQSCzzuzpWwrgUJXbOL+mdx7z/M759xz9tLdheNnra9Zf7nINy63t5vuzvX5mAn0+MKC2RPzcqcW5NAZBL7e7tLu/J68/rkIJDVTaITINHQE/V1JTUeCtxkhHEsXDIBUJOggCZFgS0IitmSxwFK0YFqGbUiGRvjjCyKEwsAQZLmwTFcAWRYr8K5+TWaTESEkpVyUy3kOBjkOiiyPzxFyYFxHNtDtCMHSLE3SLMnwTQwn0CGB5alwONhK+JuhhVRDxyQUTUQ9cwWP18qw9eamAoSgZWMhRDQeq07UxeILqmqb5gYyZEUHcEjYwHbQ0NV8Q4b+ZqA58OZqkEctJBxJgggRgWhaw1ChQuyaMXdgvge1yIlBjgmJIRqwDMeGsgJltWElgX1zO9wdVSYVj1SAuq3aqVshitEQV0HJHljVYhHxBX730+AATVVUaEWIqsrY8lh9PRGt02W4agmwyHprja7GTI1MVLaQCgSAk8I8Q7KAp0MyDA8oSksbgHmYpvmGLqsuaMhfa9iVEFsNh2ITErgMbDBRnV5nxRTbtSiTrvwahhXhVjeo6Sg6drvuxhUmMRB+b3nrCAxy27alio4NByUMP/AgihDANFWZGH7o5eJA+nShCNFu26YQCHR2dlKdQcqw2gIsTTOBliWLE1I7TAIC07q1nqZXb81Aqp4rEsScSBXslIlt6cK5ig3Q24hokC2nGXYA96FmRYfv/mMjw+fA0IrIVoUEQUgOy0FJDFYoQAFsNiokOpCkAdcOKIIUmQRWB7RNDUiQlHCeOUloqbIQ5BQW64WkzIcVMhRWFFLkZJ5kFAhpCEVRClf8nwplpKmegJIF7azkevbyvDpZI7O1Wp21utZpCTcul5ZXspVsFRNTQMysbgfLVi3uCIXWLkQNkZFWw42dlwwT1huaKqWygIBb69lEwZLrgWWnKp0UXiegpuHPqNxFrrtjK9QuP8ICgKlSbnlTkpEMGADf6+7WCs9i/0iIAqKTotociGxshYxb64iZVFwfFL4l5JGzpO8g7MDIWfDcJjuSfUeKvMuOwkiqbe02ui2dXUNAGVX2xEwznkw6NhA1GM9Od/yPOuMN3VPx7Dhyn9xavwt+4cimQ6zK6cGP8uJMoTUSZUFkOBaeeak6dw5qMjqgjruKbRmaBq1mZtTBHmMxvs3me2d+Z2/yG0u5LWkqTp8VY82zuxJRFYx2usnv8b2aZc8ZroKp4LkQz4/Kt/leXJtSY62r1xjIhvK/8EclMPTZJJrj/Zge3/t0j+9Ars9Hl9MkM5ueWZi3ND/vHgLh5k4hoMui0UWpQKFwC9WB7ViQ6oApE6hWbqFP/fpL6UrGg03vU/QDg0824/OYCRnvN/S06ycFTPGUIgwMy/AMR4dYvpV++PppPjM5v+TIlEC8bGVL8PMvDv+oXXl3w7o/F+2jiwaJfL6CHJxdOckX+NPH3z7yYO8TVaf2PTervz967K97T3x8dOukT7d+VLrzxIfP/HLuYDH3WWF88+49Z8rCSJw+fXvxyk373zjZcDH30sylZZu3VM6Yt3L3gQ1F+1/acX/nD8ULts05/HLTrsY9T3K7+k+2Xtq5UT4fCH715qVH/tg778zFGRfPRi6f/r2v2pggVP3s7A0tkntjfaWH8koXPdQYIzdNWt327WHu6rkddXnfxMs2rq25QF2dfPm7196rWfH99teX7ohMO3/fOzt7tv32QdFbxY9zC1c/2vfT0ecJc0tjyfGSXw8s298w4zR7pWFcvFx4ZfuhY3O2THyx5ODZsr5POp9NrJsztfmxrfyFp0+xQo7J9mnBdBj/BoqknlxKEwAA'}]}"
      ]
     },
     "execution_count": 33,
     "metadata": {},
     "output_type": "execute_result"
    }
   ],
   "source": [
    "res.json()"
   ]
  },
  {
   "cell_type": "code",
   "execution_count": null,
   "metadata": {},
   "outputs": [],
   "source": []
  }
 ],
 "metadata": {
  "kernelspec": {
   "display_name": "Python 3",
   "language": "python",
   "name": "python3"
  },
  "language_info": {
   "codemirror_mode": {
    "name": "ipython",
    "version": 3
   },
   "file_extension": ".py",
   "mimetype": "text/x-python",
   "name": "python",
   "nbconvert_exporter": "python",
   "pygments_lexer": "ipython3",
   "version": "3.7.4"
  }
 },
 "nbformat": 4,
 "nbformat_minor": 2
}
